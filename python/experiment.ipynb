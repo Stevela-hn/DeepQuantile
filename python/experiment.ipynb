{
 "cells": [
  {
   "cell_type": "code",
   "execution_count": 5,
   "metadata": {},
   "outputs": [],
   "source": [
    "import torch\n",
    "import torch.autograd as autograd\n",
    "import torch.nn as nn\n",
    "import torch.optim as optim"
   ]
  },
  {
   "cell_type": "code",
   "execution_count": 10,
   "metadata": {},
   "outputs": [
    {
     "data": {
      "text/plain": [
       "tensor([[True, True],\n",
       "        [True, True]])"
      ]
     },
     "execution_count": 10,
     "metadata": {},
     "output_type": "execute_result"
    }
   ],
   "source": [
    "torch.FloatTensor([[0.5, 0.1], [0.2, 0.11]]) == torch.tensor([[0.5, 0.1], [0.2, 0.11]])"
   ]
  },
  {
   "cell_type": "code",
   "execution_count": 15,
   "metadata": {},
   "outputs": [
    {
     "ename": "TypeError",
     "evalue": "new() received an invalid combination of arguments - got (list, requires_grad=bool), but expected one of:\n * (*, torch.device device)\n      didn't match because some of the keywords were incorrect: requires_grad\n * (torch.Storage storage)\n * (Tensor other)\n * (tuple of ints size, *, torch.device device)\n * (object data, *, torch.device device)\n",
     "output_type": "error",
     "traceback": [
      "\u001b[1;31m---------------------------------------------------------------------------\u001b[0m",
      "\u001b[1;31mTypeError\u001b[0m                                 Traceback (most recent call last)",
      "\u001b[1;32mc:\\Users\\liuhn\\Desktop\\quantile-regression-master\\experiment.ipynb Cell 3\u001b[0m in \u001b[0;36m<module>\u001b[1;34m\u001b[0m\n\u001b[1;32m----> <a href='vscode-notebook-cell:/c%3A/Users/liuhn/Desktop/quantile-regression-master/experiment.ipynb#W2sZmlsZQ%3D%3D?line=0'>1</a>\u001b[0m torch\u001b[39m.\u001b[39;49mLongTensor([[\u001b[39m0.5\u001b[39;49m, \u001b[39m0.1\u001b[39;49m], [\u001b[39m0.2\u001b[39;49m, \u001b[39m0.11\u001b[39;49m]], requires_grad\u001b[39m=\u001b[39;49m\u001b[39mTrue\u001b[39;49;00m)\n",
      "\u001b[1;31mTypeError\u001b[0m: new() received an invalid combination of arguments - got (list, requires_grad=bool), but expected one of:\n * (*, torch.device device)\n      didn't match because some of the keywords were incorrect: requires_grad\n * (torch.Storage storage)\n * (Tensor other)\n * (tuple of ints size, *, torch.device device)\n * (object data, *, torch.device device)\n"
     ]
    }
   ],
   "source": [
    "torch.LongTensor([[0.5, 0.1], [0.2, 0.11]], requires_grad=True)"
   ]
  },
  {
   "cell_type": "code",
   "execution_count": 21,
   "metadata": {},
   "outputs": [
    {
     "data": {
      "text/plain": [
       "torch.Size([3])"
      ]
     },
     "execution_count": 21,
     "metadata": {},
     "output_type": "execute_result"
    }
   ],
   "source": [
    "torch.FloatTensor([[1,2,3], [4,5,6]]).mean(axis=0).shape"
   ]
  },
  {
   "cell_type": "code",
   "execution_count": 30,
   "metadata": {},
   "outputs": [],
   "source": [
    "a = nn.ReLU"
   ]
  },
  {
   "cell_type": "code",
   "execution_count": 31,
   "metadata": {},
   "outputs": [
    {
     "data": {
      "text/plain": [
       "Sequential(\n",
       "  (0): ReLU()\n",
       ")"
      ]
     },
     "execution_count": 31,
     "metadata": {},
     "output_type": "execute_result"
    }
   ],
   "source": [
    "nn.Sequential(a())"
   ]
  },
  {
   "cell_type": "code",
   "execution_count": 33,
   "metadata": {},
   "outputs": [
    {
     "data": {
      "text/plain": [
       "Sequential(\n",
       "  (0): ReLU()\n",
       ")"
      ]
     },
     "execution_count": 33,
     "metadata": {},
     "output_type": "execute_result"
    }
   ],
   "source": [
    "a = nn.ReLU()\n",
    "nn.Sequential(a)"
   ]
  },
  {
   "cell_type": "code",
   "execution_count": 34,
   "metadata": {},
   "outputs": [],
   "source": [
    "for i in range(10):\n",
    "    pass"
   ]
  },
  {
   "cell_type": "code",
   "execution_count": 35,
   "metadata": {},
   "outputs": [
    {
     "name": "stdout",
     "output_type": "stream",
     "text": [
      "9\n"
     ]
    }
   ],
   "source": [
    "print(i)"
   ]
  },
  {
   "cell_type": "code",
   "execution_count": 43,
   "metadata": {},
   "outputs": [
    {
     "data": {
      "text/plain": [
       "typing.OrderedDict"
      ]
     },
     "execution_count": 43,
     "metadata": {},
     "output_type": "execute_result"
    }
   ],
   "source": [
    "from typing import OrderedDict\n",
    "\n",
    "\n",
    "OrderedDict"
   ]
  },
  {
   "cell_type": "code",
   "execution_count": 18,
   "metadata": {},
   "outputs": [
    {
     "name": "stdout",
     "output_type": "stream",
     "text": [
      "Parameter containing:\n",
      "tensor([[ 0.0070,  0.0557,  0.0525,  ..., -0.0601,  0.0608,  0.0517],\n",
      "        [ 0.0677,  0.0466, -0.0083,  ..., -0.0292, -0.0627,  0.0033],\n",
      "        [ 0.0348, -0.0327, -0.0379,  ..., -0.0530, -0.0328, -0.0608],\n",
      "        ...,\n",
      "        [ 0.0253,  0.0594, -0.0040,  ...,  0.0212, -0.0238, -0.0108],\n",
      "        [ 0.0085,  0.0543,  0.0204,  ..., -0.0666,  0.0050,  0.0202],\n",
      "        [ 0.0560, -0.0690,  0.0644,  ..., -0.0140,  0.0688,  0.0706]],\n",
      "       requires_grad=True)\n",
      "Parameter containing:\n",
      "tensor([ 0.0271,  0.0216, -0.0364, -0.0056,  0.0692, -0.0616,  0.0180, -0.0332,\n",
      "        -0.0147, -0.0078,  0.0689, -0.0285, -0.0080,  0.0300,  0.0677, -0.0087,\n",
      "         0.0383, -0.0130,  0.0073,  0.0057, -0.0082,  0.0503,  0.0597,  0.0163,\n",
      "        -0.0350, -0.0166,  0.0551, -0.0243,  0.0588, -0.0212, -0.0696, -0.0583,\n",
      "        -0.0029, -0.0483,  0.0268,  0.0670, -0.0083,  0.0083,  0.0175,  0.0582,\n",
      "        -0.0305,  0.0358,  0.0696,  0.0339,  0.0688,  0.0073, -0.0521, -0.0398,\n",
      "        -0.0489,  0.0318, -0.0156, -0.0312,  0.0644,  0.0101,  0.0515, -0.0356,\n",
      "         0.0292, -0.0247,  0.0672,  0.0117,  0.0246, -0.0029, -0.0136,  0.0080,\n",
      "         0.0248, -0.0122, -0.0375,  0.0028,  0.0276, -0.0596, -0.0473, -0.0682,\n",
      "        -0.0001, -0.0125, -0.0105, -0.0450, -0.0643, -0.0042,  0.0159, -0.0146,\n",
      "        -0.0585, -0.0001,  0.0514,  0.0500,  0.0219, -0.0353,  0.0076, -0.0506,\n",
      "         0.0605, -0.0162,  0.0553,  0.0470, -0.0326,  0.0358, -0.0221,  0.0620,\n",
      "        -0.0159,  0.0412,  0.0388, -0.0016,  0.0582, -0.0176,  0.0447, -0.0385,\n",
      "         0.0018, -0.0341, -0.0274,  0.0196,  0.0024, -0.0286,  0.0217,  0.0188,\n",
      "        -0.0086, -0.0138,  0.0659, -0.0126,  0.0644, -0.0332, -0.0558,  0.0005,\n",
      "         0.0502,  0.0394,  0.0021,  0.0330, -0.0590,  0.0542,  0.0015, -0.0704,\n",
      "        -0.0143, -0.0472,  0.0519,  0.0562,  0.0639,  0.0568,  0.0627, -0.0170,\n",
      "         0.0421, -0.0603,  0.0450,  0.0234, -0.0057,  0.0095, -0.0457,  0.0140,\n",
      "         0.0359, -0.0523, -0.0323,  0.0217,  0.0655,  0.0087, -0.0069, -0.0276,\n",
      "         0.0620,  0.0519,  0.0127,  0.0391, -0.0599,  0.0085, -0.0609,  0.0255,\n",
      "        -0.0523,  0.0506, -0.0215,  0.0338,  0.0271, -0.0603,  0.0367, -0.0455,\n",
      "         0.0245, -0.0007, -0.0088, -0.0607,  0.0676,  0.0049, -0.0512,  0.0477,\n",
      "         0.0487, -0.0658, -0.0086, -0.0062,  0.0211, -0.0563,  0.0697, -0.0395,\n",
      "        -0.0333, -0.0509, -0.0440,  0.0016, -0.0642,  0.0280,  0.0665, -0.0273,\n",
      "         0.0053,  0.0313,  0.0282, -0.0100, -0.0074, -0.0569, -0.0173,  0.0108],\n",
      "       requires_grad=True)\n"
     ]
    }
   ],
   "source": [
    "nn.Sequential(*[nn.Linear(200, 200), nn.ReLU()]).comp"
   ]
  },
  {
   "cell_type": "code",
   "execution_count": 3,
   "metadata": {},
   "outputs": [
    {
     "data": {
      "text/plain": [
       "{'layer_specs': [200, 200],\n",
       " 'activation': 'ReLU',\n",
       " 'penalty': 'Otherwise',\n",
       " 'optimizer': 'SGD',\n",
       " 'nesterov': True,\n",
       " 'momentum': 0.9,\n",
       " 'lr_decay': 0.5,\n",
       " 'dropout_proportion': 0.1}"
      ]
     },
     "execution_count": 3,
     "metadata": {},
     "output_type": "execute_result"
    }
   ],
   "source": [
    "def load_config(path):\n",
    "    import yaml\n",
    "    return yaml.load(open(path, 'r'), Loader=yaml.SafeLoader)\n",
    "\n",
    "load_config(\"../config.yaml\")"
   ]
  },
  {
   "cell_type": "code",
   "execution_count": 14,
   "metadata": {},
   "outputs": [
    {
     "data": {
      "text/plain": [
       "tensor([0.5000, 0.1000, 0.2000, 0.1100, 0.5000, 0.0000, 0.2200, 0.7400])"
      ]
     },
     "execution_count": 14,
     "metadata": {},
     "output_type": "execute_result"
    }
   ],
   "source": [
    "torch.FloatTensor([[[0.5, 0.1], [0.2, 0.11]], [[0.5, 0/2], [0.22, 0.74]]]).view(-1)"
   ]
  },
  {
   "cell_type": "code",
   "execution_count": null,
   "metadata": {},
   "outputs": [],
   "source": []
  }
 ],
 "metadata": {
  "kernelspec": {
   "display_name": "Python 3.10.7 64-bit (microsoft store)",
   "language": "python",
   "name": "python3"
  },
  "language_info": {
   "codemirror_mode": {
    "name": "ipython",
    "version": 3
   },
   "file_extension": ".py",
   "mimetype": "text/x-python",
   "name": "python",
   "nbconvert_exporter": "python",
   "pygments_lexer": "ipython3",
   "version": "3.10.7"
  },
  "orig_nbformat": 4,
  "vscode": {
   "interpreter": {
    "hash": "faa1c5e7304e37e291307c8ca76f8520a0b6edf821469faa6538266799dd2c53"
   }
  }
 },
 "nbformat": 4,
 "nbformat_minor": 2
}
